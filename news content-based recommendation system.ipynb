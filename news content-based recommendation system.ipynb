{
 "cells": [
  {
   "cell_type": "markdown",
   "metadata": {},
   "source": [
    "# Gợi ý các tin bài liên quan dựa trên sự tương đồng trong nội dung của bài viết"
   ]
  },
  {
   "cell_type": "code",
   "execution_count": 300,
   "metadata": {},
   "outputs": [],
   "source": [
    "#library\n",
    "import os\n",
    "import gensim\n",
    "from gensim.models import Doc2Vec\n",
    "from gensim.models.doc2vec import TaggedDocument\n",
    "import re\n",
    "from nltk.tokenize import word_tokenize\n",
    "import codecs\n",
    "import multiprocessing as mp\n",
    "from random import shuffle\n",
    "from bs4 import BeautifulSoup  \n",
    "import requests\n",
    "import pandas as pd\n",
    "import readability\n",
    "from readability.readability import Document\n",
    "import urllib\n",
    "from itertools import permutations\n",
    "import numpy as np\n",
    "from sklearn.neighbors import NearestNeighbors\n",
    "from sklearn.feature_extraction.text import TfidfVectorizer, CountVectorizer, TfidfTransformer"
   ]
  },
  {
   "cell_type": "code",
   "execution_count": 13,
   "metadata": {},
   "outputs": [],
   "source": [
    "def string_clean(s):\n",
    "    s_lower = s.lower()\n",
    "    s_clean = \" \".join(re.findall(\"[0-9a-zaáàảãạâấầẩẫậăắằẳẵặeéèẻẽẹêếềểễệiíìỉĩịoóòỏõọôốồổỗộơớờởỡợuúùủũụưứừửữựyýỳỷỹỵđ]+\", s_lower))\n",
    "    return(word_tokenize(s_clean))"
   ]
  },
  {
   "cell_type": "markdown",
   "metadata": {},
   "source": [
    "# Đọc dữ liệu để train model\n",
    "Dữ liệu của magizbox tại: https://github.com/magizbox/corpus.vinews/tree/master/vn_news/data. Dữ liệu của duyvuleo tại: https://github.com/duyvuleo/VNTC/tree/master/Data/27Topics/Ver1.1"
   ]
  },
  {
   "cell_type": "code",
   "execution_count": 85,
   "metadata": {},
   "outputs": [],
   "source": [
    "news = list()\n",
    "label = 0\n",
    "\n",
    "#đọc dữ liệu của magizbox\n",
    "folder_dir = '.../vietnam news/data'\n",
    "file_list = os.listdir(folder_dir)\n",
    "\n",
    "for i in file_list:\n",
    "    file_dir = os.path.join(folder_dir, i)\n",
    "    with open(file_dir, 'r') as f:\n",
    "        label += 1\n",
    "        news.append(gensim.models.doc2vec.TaggedDocument(string_clean(f.read()), ['news_' + str(label)]))\n",
    "        \n",
    "#đọc dữ liệu của duyvuleo, test data\n",
    "#test\n",
    "folder_dir = '../vietnam news/news test'\n",
    "sub_folder_list = os.listdir(folder_dir)\n",
    "for subs in sub_folder_list:\n",
    "    file_list =  os.listdir(os.path.join(folder_dir, subs))\n",
    "    for i in file_list:\n",
    "        with open(os.path.join(folder_dir, subs,i), 'rb') as f:\n",
    "            label += 1\n",
    "            news.append(gensim.models.doc2vec.TaggedDocument(string_clean(f.read().decode(\"utf-16\")), ['news_' + str(label)]))\n",
    "\n",
    "#đọc dữ liệu của duyvuleo, train data\n",
    "#test\n",
    "folder_dir = '.../vietnam news/news train'\n",
    "sub_folder_list = os.listdir(folder_dir)\n",
    "for subs in sub_folder_list:\n",
    "    file_list =  os.listdir(os.path.join(folder_dir, subs))\n",
    "    for i in file_list:\n",
    "        with open(os.path.join(folder_dir, subs,i), 'rb') as f:\n",
    "            label += 1\n",
    "            news.append(gensim.models.doc2vec.TaggedDocument(string_clean(f.read().decode(\"utf-16\")), ['news_' + str(label)]))"
   ]
  },
  {
   "cell_type": "markdown",
   "metadata": {},
   "source": [
    "# Xem qua dữ liệu"
   ]
  },
  {
   "cell_type": "code",
   "execution_count": 86,
   "metadata": {},
   "outputs": [
    {
     "data": {
      "text/plain": [
       "61891"
      ]
     },
     "execution_count": 86,
     "metadata": {},
     "output_type": "execute_result"
    }
   ],
   "source": [
    "len(news)"
   ]
  },
  {
   "cell_type": "code",
   "execution_count": 88,
   "metadata": {},
   "outputs": [
    {
     "data": {
      "text/plain": [
       "[TaggedDocument(words=['kết', 'quả', 'xổ', 'số', 'điện', 'toán', 'vietlott', 'ngày', '6', '2', '2017', 'kết', 'quả', 'xổ', 'số', 'điện', 'toán', 'vietlott', 'ngày', '6', '2', '2017', 'kết', 'quả', 'xổ', 'số', 'điện', 'toán', '123', 'là', '2', '26', '733', 'xổ', 'số', 'thần', 'tài', '4', 'là', '3781', 'xổ', 'số', 'điện', 'toán', '6x36', 'là', '07', '08', '10', '12', '15', '16', 'kết', 'quả', 'xổ', 'sổ', 'điện', 'toán', 'vietlott', 'ngày', '6', '2', '2017', 'xổ', 'số', 'điện', 'toán', 'là', 'loại', 'hình', 'xổ', 'số', 'mà', 'trong', 'đó', 'người', 'chơi', 'được', 'phép', 'chọn', 'số', 'tùy', 'thích', 'có', 'thêm', 'nhiều', 'lựa', 'chọn', 'mua', 'vé', 'qua', 'internet', 'hay', 'thiết', 'bị', 'di', 'động', 'như', 'với', 'xổ', 'số', 'truyền', 'thống', 'đặc', 'biệt', 'là', 'giải', 'thưởng', 'của', 'xổ', 'số', 'điện', 'toán', 'sẽ', 'được', 'cộng', 'dồn', 'cho', 'đến', 'khi', 'có', 'người', 'nhận', 'thưởng', 'giúp', 'gia', 'tăng', 'giá', 'trị', 'thưởng', 'của', 'người', 'dùng', 'xổ', 'số', 'điện', 'toán', 'có', 'nhiều', 'hình', 'thức', 'chơi', 'như', 'lô', 'tô', 'tự', 'chọn', 'xổ', 'số', 'điện', 'toán', '123', 'xổ', 'số', '6x36', 'xổ', 'số', 'thần', 'tài', '4', 'lô', 'tô', 'tự', 'chọn', '5', 'số', 'với', 'nhiều', 'lựa', 'chọn', 'phong', 'phú', 'xổ', 'số', '123', 'và', 'xổ', 'số', 'thần', 'tài', '4', 'mở', 'thưởng', 'hàng', 'ngày', 'riêng', 'xổ', 'số', '6x36', 'mở', 'thưởng', 'thứ', '4', 'và', 'thứ', '7', 'hàng', 'tuần', 'khác', 'với', 'xổ', 'số', 'truyền', 'thống', 'người', 'chơi', 'trúng', 'số', 'được', 'nhận', 'giải', 'thưởng', 'cố', 'định', 'xổ', 'số', 'tự', 'chọn', 'số', 'điện', 'toán', 'có', 'giải', 'thưởng', 'biến', 'đổi', 'theo', 'doanh', 'thu', 'và', 'giải', 'đặc', 'biệt', 'được', 'cộng', 'dồn', 'cho', 'đến', 'khi', 'có', 'người', 'trúng', 'giải', 'ngoài', 'ra', 'còn', 'có', 'loại', 'hình', 'jackpot', 'mega', '6', '45', 'của', 'vietlott', 'xổ', 'số', 'điện', 'toán', 'mega', '6', '45', 'có', 'giải', 'jackpot', 'đặc', 'biệt', 'là', '12', 'tỷ', 'và', 'cộng', 'dồn', 'không', 'giới', 'hạn', 'vì', 'vậy', 'rất', 'thu', 'hút', 'người', 'chơi', 'đồng', 'thời', 'khi', 'trúng', 'thưởng', 'giải', 'jackpot', 'thì', 'sẽ', 'được', 'lãnh', 'ngay', 'và', 'đóng', 'thuế', 'rất', 'thấp', 'chứ', 'không', 'giống', 'như', 'loại', 'hình', 'xổ', 'số', 'điện', 'toán', 'tương', 'tự', 'tại', 'các', 'nước', 'kết', 'quả', 'xổ', 'số', 'mega', '6', '45', 'được', 'mở', 'thưởng', 'bắt', 'đầu', 'từ', '18h', 'cho', 'tới', '18h30', 'vào', 'các', 'ngày', 'thứ', '4', 'thứ', '6', 'và', 'chủ', 'nhật', 'cố', 'định', 'hàng', 'tuần', 'kết', 'quả', 'xổ', 'số', 'điện', 'toán', 'vietlott', 'ngày', '5', '2', '2017', 'kết', 'quả', 'xổ', 'sổ', 'điện', 'toán', 'ngày', '5', '2', '2017', 'như', 'sau', 'kết', 'quả', 'xổ', 'số', 'điện', 'toán', '123', 'là', '2', '26', '733', 'kết', 'quả', 'xổ', 'số', 'thần', 'tài', '4', 'là', '3781', 'kết', 'quả', 'xổ', 'số', '6x36', 'là', '07', '08', '10', '12', '15', '16', 'kết', 'quả', 'jackpot', 'mega', '6', '45', 'là', '01', '11', '26', '29', '34', '40', 'mua', 'vé', 'xổ', 'số', 'vietlott', 'ở', 'đâu', 'tại', 'hà', 'nội', 'kim', 'thanh', 't', 'h'], tags=['news_1']),\n",
       " TaggedDocument(words=['3', 'con', 'giáp', 'số', 'hên', 'luôn', 'gặp', 'may', 'và', 'được', 'quý', 'nhân', 'giúp', 'đỡ', 'trong', 'năm', '2017', 'trong', 'năm', 'đinh', 'dậu', 'những', 'con', 'giáp', 'may', 'mắn', 'có', 'tên', 'trong', 'danh', 'sách', 'dưới', 'đây', 'rất', 'tốt', 'số', 'được', 'quý', 'nhân', 'phù', 'trợ', 'nên', 'mọi', 'chuyện', 'luôn', 'thuận', 'buồm', 'xuôi', 'gió', '1', 'tuổi', 'thìn', 'năm', '2017', 'những', 'người', 'tuổi', 'thìn', 'là', 'mệnh', 'hợp', 'thái', 'tuế', 'nên', 'mọi', 'phương', 'diện', 'đều', 'vô', 'cùng', 'thuận', 'lợi', 'trong', 'cả', 'một', 'năm', 'đầu', 'óc', 'của', 'họ', 'hoạt', 'động', 'một', 'cách', 'tích', 'cực', 'và', 'hiệu', 'quả', 'họ', 'sẽ', 'có', 'thật', 'nhiều', 'cơ', 'hội', 'để', 'thể', 'hiện', 'năng', 'lực', 'của', 'bản', 'thân', 'nhờ', 'đó', 'họ', 'sẽ', 'được', 'cấp', 'trên', 'đánh', 'giá', 'cao', 'vào', 'những', 'thời', 'điểm', 'quan', 'trọng', 'quý', 'nhân', 'sẽ', 'xuất', 'hiện', 'và', 'giúp', 'họ', 'trở', 'nên', 'sáng', 'suốt', 'và', 'tỉnh', 'táo', 'nhất', 'ảnh', 'minh', 'họa', 'không', 'những', 'thế', 'họ', 'còn', 'nhận', 'được', 'rất', 'nhiều', 'sự', 'giúp', 'đỡ', 'từ', 'người', 'thân', 'bạn', 'bè', 'người', 'tuổi', 'thìn', 'không', 'những', 'thuận', 'lợi', 'trong', 'công', 'việc', 'mà', 'còn', 'tránh', 'được', 'những', 'hiểm', 'họa', 'rình', 'rập', 'tuy', 'nhiên', 'để', 'con', 'đường', 'thành', 'công', 'không', 'bị', 'gián', 'đoạn', 'người', 'tuổi', 'thìn', 'cần', 'thay', 'đổi', 'tính', 'nôn', 'nóng', 'bộc', 'trực', 'sự', 'nôn', 'nóng', 'của', 'bạn', 'có', 'thể', 'làm', 'hỏng', 'nhiều', 'hợp', 'đồng', 'làm', 'ăn', 'quan', 'trọng', '2', 'tuổi', 'hợi', 'những', 'người', 'tuổi', 'hợi', 'sẽ', 'nhận', 'được', 'nhiều', 'tài', 'lộc', 'và', 'trở', 'thành', 'một', 'trong', 'những', 'con', 'giáp', 'giàu', 'có', 'năm', '2017', 'công', 'việc', 'và', 'cuộc', 'sống', 'của', 'bạn', 'đều', 'được', 'thuận', 'lợi', 'với', 'nguồn', 'thu', 'ổn', 'định', 'thậm', 'chí', 'những', 'người', 'tuổi', 'hợi', 'còn', 'có', 'cơ', 'hội', 'nhận', 'được', 'nhiều', 'khoản', 'tiền', 'từ', 'trên', 'trời', 'rơi', 'xuống', 'năm', '2017', 'bạn', 'còn', 'có', 'cơ', 'hội', 'phát', 'triển', 'tài', 'chính', 'nhờ', 'những', 'tài', 'lẻ', 'của', 'mình', 'làm', 'trang', 'trí', 'nội', 'thất', 'hoặc', 'làm', 'đẹp', 'chẳng', 'hạn', 'với', 'nguồn', 'tài', 'chính', 'không', 'thể', 'cạn', 'bạn', 'có', 'thể', 'thỏa', 'sức', 'mua', 'sắm', 'và', 'du', 'lịch', '3', 'tuổi', 'tý', 'trong', 'năm', 'sau', 'những', 'người', 'tuổi', 'tý', 'là', 'những', 'người', 'gặp', 'được', 'nhiều', 'may', 'mắn', 'khi', 'có', 'thể', 'gặt', 'hái', 'nhiều', 'thành', 'công', 'mọi', 'dự', 'định', 'được', 'đưa', 'ra', 'sẽ', 'diễn', 'tiến', 'theo', 'đúng', 'kế', 'hoạch', 'làm', 'bất', 'cứ', 'việc', 'gì', 'cũng', 'đều', 'thuận', 'lợi', 'hơn', 'và', 'nếu', 'gặp', 'khó', 'khăn', 'trở', 'ngại', 'thì', 'luôn', 'xuất', 'hiện', 'bên', 'cạnh', 'những', 'người', 'tuổi', 'tý', 'là', 'các', 'quý', 'nhân', 'hỗ', 'trợ', 'bạn', 'giải', 'quyết', 'ổn', 'thỏa', 'không', 'những', 'thế', 'với', 'những', 'người', 'tuổi', 'tý', 'thì', 'các', 'cơ', 'hội', 'thăng', 'tiến', 'hay', 'mở', 'rộng', 'tiền', 'đồ', 'sẽ', 'liên', 'tục', 'xuất', 'hiện', 'quan', 'trọng', 'nhất', 'năm', '2017', 'này', 'là', 'thời', 'điểm', 'cực', 'tốt', 'cho', 'người', 'phụ', 'nữ', 'sinh', 'tuổi', 'tý', 'khi', 'mọi', 'sự', 'hanh', 'thông', 'và', 'thăng', 'quan', 'tiến', 'chức', 'là', 'điều', 'hiển', 'nhiên'], tags=['news_2'])]"
      ]
     },
     "execution_count": 88,
     "metadata": {},
     "output_type": "execute_result"
    }
   ],
   "source": [
    "news[0:2]"
   ]
  },
  {
   "cell_type": "markdown",
   "metadata": {},
   "source": [
    "# Tạo từ điển và train model"
   ]
  },
  {
   "cell_type": "code",
   "execution_count": 90,
   "metadata": {},
   "outputs": [],
   "source": [
    "#build vocab and model\n",
    "cores = mp.cpu_count()\n",
    "model = Doc2Vec(min_count=1, window=15, size=100, workers=cores, alpha=0.025, min_alpha=0.025)\n",
    "model.build_vocab(news)"
   ]
  },
  {
   "cell_type": "code",
   "execution_count": 94,
   "metadata": {},
   "outputs": [
    {
     "data": {
      "text/plain": [
       "630407254"
      ]
     },
     "execution_count": 94,
     "metadata": {},
     "output_type": "execute_result"
    }
   ],
   "source": [
    "#train model\n",
    "#phần này sẽ tốn khá nhiều thời gian\n",
    "for epoch in range(20):\n",
    "    shuffle(news)\n",
    "    model.train(news, total_examples=model.corpus_count, epochs=epoch)\n",
    "    model.alpha -= 0.002  # decrease the learning rate\n",
    "    model.min_alpha = model.alpha  # fix the learning rate, no decay"
   ]
  },
  {
   "cell_type": "markdown",
   "metadata": {},
   "source": [
    "# Thu thập tin tức trên web"
   ]
  },
  {
   "cell_type": "code",
   "execution_count": 145,
   "metadata": {},
   "outputs": [],
   "source": [
    "def clean_link(link):\n",
    "    return(link.replace('\\n','').strip())    "
   ]
  },
  {
   "cell_type": "code",
   "execution_count": 312,
   "metadata": {},
   "outputs": [],
   "source": [
    "#thu thập dữ liệu trên web\n",
    "def news_crawl():\n",
    "    \n",
    "    news_update = pd.DataFrame(columns = ['news_content', 'link'])\n",
    "    \n",
    "    list_rss = ['https://laodong.vn/rss/xa-hoi.rss',\n",
    "                'https://laodong.vn/rss/thoi-su.rss',                \n",
    "                'https://thanhnien.vn/rss/chinh-tri-xa-hoi.rss',\n",
    "                'http://tuoitre.vn/rss/thoi-su.rss',\n",
    "                'http://vietnamnet.vn/rss/thoi-su.rss',\n",
    "                'http://dantri.com.vn/xa-hoi.rss',\n",
    "                'https://vnexpress.net/rss/thoi-su.rss']\n",
    "    \n",
    "    for rss_link in list_rss:\n",
    "        print('get news from ', rss_link)\n",
    "        soup = BeautifulSoup(requests.get(rss_link).text, 'html.parser')\n",
    "        links = [clean_link(link.get_text()) for link in [item.find('link') for item in soup.find_all('item')]]\n",
    "        for link in links:\n",
    "            html = requests.get(link).text\n",
    "            readable_article = BeautifulSoup(Document(html).summary(), 'html.parser').get_text()\n",
    "            readable_title = BeautifulSoup(Document(html).short_title(),'html.parser').get_text()\n",
    "            news_update = news_update.append(pd.DataFrame({'news_content': [readable_title + ' ' + readable_article],\n",
    "                                                          'link': [link]}))\n",
    "    return(news_update)"
   ]
  },
  {
   "cell_type": "code",
   "execution_count": 313,
   "metadata": {
    "scrolled": false
   },
   "outputs": [
    {
     "name": "stdout",
     "output_type": "stream",
     "text": [
      "get news from  https://laodong.vn/rss/xa-hoi.rss\n",
      "get news from  https://laodong.vn/rss/thoi-su.rss\n",
      "get news from  https://thanhnien.vn/rss/chinh-tri-xa-hoi.rss\n",
      "get news from  http://tuoitre.vn/rss/thoi-su.rss\n",
      "get news from  http://vietnamnet.vn/rss/thoi-su.rss\n",
      "get news from  http://dantri.com.vn/xa-hoi.rss\n",
      "get news from  https://vnexpress.net/rss/thoi-su.rss\n",
      "CPU times: user 17.8 s, sys: 312 ms, total: 18.1 s\n",
      "Wall time: 9min 38s\n"
     ]
    }
   ],
   "source": [
    "%%time\n",
    "list_news = news_crawl()"
   ]
  },
  {
   "cell_type": "code",
   "execution_count": 314,
   "metadata": {},
   "outputs": [
    {
     "data": {
      "text/html": [
       "<div>\n",
       "<style>\n",
       "    .dataframe thead tr:only-child th {\n",
       "        text-align: right;\n",
       "    }\n",
       "\n",
       "    .dataframe thead th {\n",
       "        text-align: left;\n",
       "    }\n",
       "\n",
       "    .dataframe tbody tr th {\n",
       "        vertical-align: top;\n",
       "    }\n",
       "</style>\n",
       "<table border=\"1\" class=\"dataframe\">\n",
       "  <thead>\n",
       "    <tr style=\"text-align: right;\">\n",
       "      <th></th>\n",
       "      <th>link</th>\n",
       "      <th>news_content</th>\n",
       "    </tr>\n",
       "  </thead>\n",
       "  <tbody>\n",
       "    <tr>\n",
       "      <th>0</th>\n",
       "      <td>https://laodong.vn/xa-hoi/xe-oto-cua-so-gddt-q...</td>\n",
       "      <td>Xe ôtô của Sở GD&amp;ĐT Quảng Bình gặp tai nạn, mộ...</td>\n",
       "    </tr>\n",
       "    <tr>\n",
       "      <th>1</th>\n",
       "      <td>https://laodong.vn/xa-hoi/du-bao-mua-dong-nam-...</td>\n",
       "      <td>Dự báo mùa đông năm 2017: Miền Bắc rét đậm và ...</td>\n",
       "    </tr>\n",
       "    <tr>\n",
       "      <th>2</th>\n",
       "      <td>https://laodong.vn/xa-hoi/bo-nhiem-nhan-su-ban...</td>\n",
       "      <td>Bổ nhiệm nhân sự Ban Tuyên giáo Trung ương, Bộ...</td>\n",
       "    </tr>\n",
       "    <tr>\n",
       "      <th>3</th>\n",
       "      <td>https://laodong.vn/xa-hoi/giat-minh-voi-thong-...</td>\n",
       "      <td>“Giật mình” với thông tin áp thấp mới trên Biể...</td>\n",
       "    </tr>\n",
       "    <tr>\n",
       "      <th>4</th>\n",
       "      <td>https://laodong.vn/xa-hoi/chot-phuong-an-nghi-...</td>\n",
       "      <td>Chốt phương án nghỉ Tết Nguyên đán Mậu Tuất 7 ...</td>\n",
       "    </tr>\n",
       "    <tr>\n",
       "      <th>5</th>\n",
       "      <td>https://laodong.vn/xa-hoi/truong-dai-hoc-hutec...</td>\n",
       "      <td>Trường Đại học Hutech nói gì về sự cố sinh viê...</td>\n",
       "    </tr>\n",
       "    <tr>\n",
       "      <th>6</th>\n",
       "      <td>https://laodong.vn/xa-hoi/xoa-so-hang-loat-mai...</td>\n",
       "      <td>Xóa sổ hàng loạt mái che khu chợ Tam Bạc (Hải ...</td>\n",
       "    </tr>\n",
       "    <tr>\n",
       "      <th>7</th>\n",
       "      <td>https://laodong.vn/xa-hoi/bau-ban-chap-hanh-do...</td>\n",
       "      <td>Bầu Ban Chấp hành Đoàn TNCS Hồ Chí Minh TP Hà ...</td>\n",
       "    </tr>\n",
       "    <tr>\n",
       "      <th>8</th>\n",
       "      <td>https://laodong.vn/xa-hoi/cho-thoi-chuc-giam-d...</td>\n",
       "      <td>Cho thôi chức Giám đốc Sở KH&amp;CN Ninh Bình đối ...</td>\n",
       "    </tr>\n",
       "    <tr>\n",
       "      <th>9</th>\n",
       "      <td>https://laodong.vn/xa-hoi/thu-ngan-sach-cham-p...</td>\n",
       "      <td>Thu ngân sách chậm, phải ứng tiền tỉ trả lương...</td>\n",
       "    </tr>\n",
       "  </tbody>\n",
       "</table>\n",
       "</div>"
      ],
      "text/plain": [
       "                                                link  \\\n",
       "0  https://laodong.vn/xa-hoi/xe-oto-cua-so-gddt-q...   \n",
       "1  https://laodong.vn/xa-hoi/du-bao-mua-dong-nam-...   \n",
       "2  https://laodong.vn/xa-hoi/bo-nhiem-nhan-su-ban...   \n",
       "3  https://laodong.vn/xa-hoi/giat-minh-voi-thong-...   \n",
       "4  https://laodong.vn/xa-hoi/chot-phuong-an-nghi-...   \n",
       "5  https://laodong.vn/xa-hoi/truong-dai-hoc-hutec...   \n",
       "6  https://laodong.vn/xa-hoi/xoa-so-hang-loat-mai...   \n",
       "7  https://laodong.vn/xa-hoi/bau-ban-chap-hanh-do...   \n",
       "8  https://laodong.vn/xa-hoi/cho-thoi-chuc-giam-d...   \n",
       "9  https://laodong.vn/xa-hoi/thu-ngan-sach-cham-p...   \n",
       "\n",
       "                                        news_content  \n",
       "0  Xe ôtô của Sở GD&ĐT Quảng Bình gặp tai nạn, mộ...  \n",
       "1  Dự báo mùa đông năm 2017: Miền Bắc rét đậm và ...  \n",
       "2  Bổ nhiệm nhân sự Ban Tuyên giáo Trung ương, Bộ...  \n",
       "3  “Giật mình” với thông tin áp thấp mới trên Biể...  \n",
       "4  Chốt phương án nghỉ Tết Nguyên đán Mậu Tuất 7 ...  \n",
       "5  Trường Đại học Hutech nói gì về sự cố sinh viê...  \n",
       "6  Xóa sổ hàng loạt mái che khu chợ Tam Bạc (Hải ...  \n",
       "7  Bầu Ban Chấp hành Đoàn TNCS Hồ Chí Minh TP Hà ...  \n",
       "8  Cho thôi chức Giám đốc Sở KH&CN Ninh Bình đối ...  \n",
       "9  Thu ngân sách chậm, phải ứng tiền tỉ trả lương...  "
      ]
     },
     "execution_count": 314,
     "metadata": {},
     "output_type": "execute_result"
    }
   ],
   "source": [
    "#reset index\n",
    "list_news = list_news.reset_index(drop=True)\n",
    "list_news.head(10)"
   ]
  },
  {
   "cell_type": "markdown",
   "metadata": {},
   "source": [
    "# Vectorize"
   ]
  },
  {
   "cell_type": "code",
   "execution_count": 315,
   "metadata": {},
   "outputs": [],
   "source": [
    "#từ điển\n",
    "word_vectors = model.wv.vocab\n",
    "ranges = len(list_news)\n",
    "list_news_vec = np.zeros((ranges, 100))\n",
    "\n",
    "for link, news_content, index in zip(list_news['link'], list_news['news_content'], range(ranges)):\n",
    "    #tách từ và chỉ lấy các từ có trong từ điển\n",
    "    news_clean = [x for x in string_clean(news_content) if x in word_vectors]\n",
    "    #chuyển thành vector\n",
    "    list_news_vec[index] = model.infer_vector(news_clean)"
   ]
  },
  {
   "cell_type": "code",
   "execution_count": 316,
   "metadata": {},
   "outputs": [
    {
     "data": {
      "text/plain": [
       "array([[ 1.21588886,  0.25520918,  0.1180691 , ..., -1.23956525,\n",
       "         0.42185211, -0.49556363],\n",
       "       [ 0.54214287,  0.25655559, -0.31910422, ..., -1.07144845,\n",
       "         0.45198804, -1.70662868],\n",
       "       [ 2.84379101,  0.34197253, -0.59917337, ..., -0.16288888,\n",
       "        -1.17410326,  0.26831767],\n",
       "       ..., \n",
       "       [ 1.06142628,  0.99939489,  0.30169684, ..., -0.43171528,\n",
       "         0.49284247,  0.59281617],\n",
       "       [ 0.20131224,  0.38381097,  0.18135981, ..., -0.3422454 ,\n",
       "         0.91234881, -0.41544929],\n",
       "       [ 0.19560772,  0.20024474, -0.22636834, ..., -0.46932459,\n",
       "         0.78941023, -0.41454673]])"
      ]
     },
     "execution_count": 316,
     "metadata": {},
     "output_type": "execute_result"
    }
   ],
   "source": [
    "list_news_vec"
   ]
  },
  {
   "cell_type": "markdown",
   "metadata": {},
   "source": [
    "# Tìm các tin liên quan bằng K-NN"
   ]
  },
  {
   "cell_type": "code",
   "execution_count": 512,
   "metadata": {
    "scrolled": false
   },
   "outputs": [
    {
     "data": {
      "text/plain": [
       "NearestNeighbors(algorithm='auto', leaf_size=30, metric='minkowski',\n",
       "         metric_params=None, n_jobs=1, n_neighbors=5, p=2, radius=1.0)"
      ]
     },
     "execution_count": 512,
     "metadata": {},
     "output_type": "execute_result"
    }
   ],
   "source": [
    "#Sử dụng 10-NN để tìm 10 đối tượng gần nhất\n",
    "neigh = NearestNeighbors(n_neighbors=5)\n",
    "neigh.fit(list_news_vec)"
   ]
  },
  {
   "cell_type": "markdown",
   "metadata": {},
   "source": [
    "# Áp dụng để gợi ý các tin liên quan"
   ]
  },
  {
   "cell_type": "code",
   "execution_count": 532,
   "metadata": {},
   "outputs": [],
   "source": [
    "def news_recommend(text):\n",
    "    (distance, found_index) = neigh.kneighbors(model.infer_vector(string_clean(news_text)).reshape(1, -1))\n",
    "    print('Các tin liên quan:', '\\n')\n",
    "    for index in found_index.tolist()[0]:\n",
    "        print(list_news.link[index])\n",
    "        print(re.sub( '\\s+', ' ',list_news.news_content[index][0:100].replace('\\n', '')), '\\n')        "
   ]
  },
  {
   "cell_type": "code",
   "execution_count": 534,
   "metadata": {},
   "outputs": [
    {
     "name": "stdout",
     "output_type": "stream",
     "text": [
      "Các tin liên quan: \n",
      "\n",
      "https://vnexpress.net/tin-tuc/giao-duc/nam-sinh-tu-vong-tai-san-truong-vi-betong-roi-trung-dau-3657229.html\n",
      "Nam sinh tử vong tại sân trường vì bêtông rơi trúng đầu Hiện trường vụ việc. Ảnh: Cộng đồn \n",
      "\n",
      "https://vnexpress.net/tin-tuc/giao-duc/nam-sinh-dai-hoc-hutech-tu-vong-vi-manh-vo-cua-mang-xoi-nuoc-3657501.html\n",
      "Nam sinh Đại học HUTECH tử vong vì mảnh vỡ của máng xối nước Hiện trường vụ việc nhìn từ trên c \n",
      "\n",
      "https://video.vnexpress.net/tin-tuc/xa-hoi/nam-thanh-nien-lao-xuong-song-da-nhim-cuu-hai-nu-sinh-3657727.html\n",
      "Nam thanh niên lao xuống sông Đa Nhim cứu hai nữ sinh Nam thanh niên lao xuống sông Đa Nhim cứu ha \n",
      "\n",
      "https://video.vnexpress.net/tin-tuc/xa-hoi/xe-may-nga-nhao-lien-tuc-khi-len-loi-tranh-duong-tac-o-ha-noi-3657247.html\n",
      "Xe máy ngã nhào liên tục khi len lỏi tránh đường tắc ở Hà Nội Xe máy ngã nhào liên tục khi len lỏi \n",
      "\n",
      "http://vietnamnet.vn/vn/thoi-su/an-toan-giao-thong/tren-duong-di-hoc-nam-sinh-lop-9-bi-xe-tai-can-tu-vong-405382.html\n",
      "Trên đường đi học, nam sinh lớp 9 bị xe tải cán tử vong - Lúc đang đi tới trường, Hoàng bị xe tải t \n",
      "\n"
     ]
    }
   ],
   "source": [
    "news_text = \"\"\"\n",
    "Nam sinh tử vong tại sân trường vì bêtông rơi trúng đầu\n",
    "Đang xếp hàng chờ thang máy tại Đại học Hutech, TP HCM, nam sinh bất ngờ bị mảng bêtông rơi từ trên cao trúng đầu tử vong.\n",
    "nam-sinh-tu-vong-tai-san-truong-vi-betong-roi-trung-dau\n",
    "\n",
    "Hiện trường vụ việc. Ảnh: Cộng đồng sinh viên Hutech\n",
    "\n",
    "Chiều 17/10, hơn chục sinh viên xếp hàng đợi thang máy tại khu B Đại học Công nghệ TP HCM (Hutech), đường Điện Biên Phủ, quận Bình Thạnh. Bất ngờ, một mảng bêtông từ trên cao rơi trúng đầu một nam sinh khiến người này gục xuống sân trường. Hàng chục sinh viên chứng kiến vụ việc la hét tháo chạy.\n",
    "\n",
    "Tại hiện trường, nạn nhân mặc áo sơ mi trắng, tử vong trong tư thế úp mặt xuống đất. Mảnh bêtông vỡ nát, nằm vương vãi xung quanh. \n",
    "\n",
    "\"Mình đang đứng xếp hàng thì nghe tiếng động lớn phía sau, nhiều mảnh bêtông nhỏ văng trúng người nhưng không sao. Quay lại, mình thấy một bạn nam nằm gục dưới sàn với vũng máu\", một nữ sinh kể.\n",
    "nam-sinh-tu-vong-tai-san-truong-vi-betong-roi-trung-dau-1\n",
    "\n",
    "Hiện trường vụ việc từ trên cao. Ảnh: Cộng đồng sinh viên Hutech\n",
    "\n",
    "Theo đại diện Hutech, nam sinh tên Nguyễn Thanh Long (29 tuổi, ở TP HCM), sinh viên khoa Kỹ thuật Môi trường. Nguyên nhân vụ việc đang được trường phối hợp với cảnh sát làm rõ.\n",
    "\n",
    "\"\"\"\n",
    "\n",
    "news_recommend(news_text)"
   ]
  },
  {
   "cell_type": "code",
   "execution_count": 535,
   "metadata": {},
   "outputs": [
    {
     "name": "stdout",
     "output_type": "stream",
     "text": [
      "Các tin liên quan: \n",
      "\n",
      "https://video.vnexpress.net/tin-tuc/xa-hoi/ha-noi-danh-chuyen-gan-1-200-cay-de-lam-duong-vanh-dai-3-3657491.html\n",
      "Hà Nội đánh chuyển gần 1.200 cây để làm đường vành đai 3 Hà Nội đánh chuyển gần 1.200 cây để làm đ \n",
      "\n",
      "https://vnexpress.net/photo/thoi-su/ha-noi-bat-dau-di-doi-1-200-cay-lam-duong-vanh-dai-3-3657460.html\n",
      "Hà Nội bắt đầu di dời 1.200 cây làm đường vành đai 3 Theo khảo sát, có 1.159 cây xanh trên đường P \n",
      "\n",
      "https://video.vnexpress.net/tin-tuc/xa-hoi/xe-may-nga-nhao-lien-tuc-khi-len-loi-tranh-duong-tac-o-ha-noi-3657247.html\n",
      "Xe máy ngã nhào liên tục khi len lỏi tránh đường tắc ở Hà Nội Xe máy ngã nhào liên tục khi len lỏi \n",
      "\n",
      "https://laodong.vn/media/40-nam-gia-nhap-lhq-viet-nam-ngay-cang-khang-dinh-vi-the-cua-minh-570518.ldo\n",
      "40 năm gia nhập LHQ, Việt Nam ngày càng khẳng định vị thế của mình Trong 40 năm gia nhập LHQ, vị th \n",
      "\n",
      "https://vnexpress.net/tin-tuc/giao-duc/nam-sinh-dai-hoc-hutech-tu-vong-vi-manh-vo-cua-mang-xoi-nuoc-3657501.html\n",
      "Nam sinh Đại học HUTECH tử vong vì mảnh vỡ của máng xối nước Hiện trường vụ việc nhìn từ trên c \n",
      "\n"
     ]
    }
   ],
   "source": [
    "news_text = \"\"\"\n",
    "Hà Nội bắt đầu di dời 1.200 cây làm đường vành đai 3\n",
    "Việc đánh chuyển, chặt hạ số cây xanh dự kiến kéo dài đến trước tháng 12 năm nay.\n",
    "\n",
    "14 cây xanh sẽ bị chặt hoặc đánh chuyển trong đợt đầu, để bàn giao mặt bằng cho dự án mở rộng đường vành đai 3 đoạn Mai Dịch - cầu Thăng Long và dự án đường trên cao.\n",
    "\n",
    "Theo khảo sát, có 1.159 cây xanh trên đường Phạm Văn Đồng phải di dời. Với những cây có thể trồng được, nhà chức trách sẽ đưa về nút giao Tả Hồng - Võ Nguyên Giáp và nút giao quốc lộ 5 - vành đai 3.\n",
    "\n",
    "Chủ tịch Hà Nội cho rằng cây xà cừ đã đánh chuyển không thể trồng lại trên phố. \n",
    "\n",
    "Số tiền để đánh chuyển, ươm trồng 1.000 cây trên đường Phạm Văn Đồng có thể dùng để trồng mới hàng chục nghìn cây khác.\n",
    "\n",
    "Mỗi cây đều có mã số riêng để nhận biết.\n",
    "\n",
    "Việc di chuyển cây xanh trên đường Phạm Văn Đồng dự kiến triển khai từ giữa năm 2017. Tuy nhiên, khi chủ đầu tư công bố kế hoạch, có một số ý kiến chưa đồng tình.\n",
    "\n",
    "Sau thời gian tạm dừng, việc chặt hạ tiếp tục tiến hành như kế hoạch ban đầu và dự kiến hoàn thành trước tháng 12 năm nay.\n",
    "\n",
    "Việc cắt tỉa và di dời cây vào giờ cao điểm sáng làm tắc cục bộ trên đường Phạm Văn Đồng.\n",
    "\"\"\"\n",
    "\n",
    "news_recommend(news_text)"
   ]
  },
  {
   "cell_type": "code",
   "execution_count": 536,
   "metadata": {},
   "outputs": [
    {
     "name": "stdout",
     "output_type": "stream",
     "text": [
      "Các tin liên quan: \n",
      "\n",
      "https://thanhnien.vn/thoi-su/ha-van-tham-gui-don-khang-cao-viet-tay-dai-9-trang-giay-891386.html\n",
      "Hà Văn Thắm gửi đơn kháng cáo viết tay dài 9 trang giấy Trong đơn kháng cáo, Hà Văn Thắm xin chấp h \n",
      "\n",
      "https://thanhnien.vn/thoi-su/1851-bi-cao-vu-dai-an-oceanbank-gui-don-khang-cao-891209.html\n",
      "18/51 bị cáo vụ 'đại án OceanBank' gửi đơn kháng cáo Ngày 17.10, thẩm phán Trần Nam Hà, chủ tọa phi \n",
      "\n",
      "https://vnexpress.net/photo/thoi-su/sau-cong-trinh-kien-truc-phap-tram-tuoi-tai-ha-noi-xua-va-nay-3653630.html\n",
      "Sáu công trình kiến trúc Pháp trăm tuổi tại Hà Nội xưa và nay Cầu Doumer (cầu Long Biên ngày nay)  \n",
      "\n",
      "https://thanhnien.vn/thoi-su/tam-giam-doi-nam-nu-mua-ban-hon-3-kg-co-my-891119.html\n",
      "Tạm giam đôi nam nữ mua bán hơn 3 kg 'cỏ Mỹ' Chiều 17.10, Cơ quan Cảnh sát điều tra Công an Q.Sơn T \n",
      "\n",
      "https://thanhnien.vn/thoi-su/hai-ke-gay-ra-nhieu-vu-cuop-giat-sa-luoi-891464.html\n",
      "Hai kẻ gây ra nhiều vụ cướp giật sa lưới Theo công an, khoảng 17 giờ ngày 17.10 Duy điều khiển xe g \n",
      "\n"
     ]
    }
   ],
   "source": [
    "news_text = \"\"\"\n",
    "Hà Văn Thắm gửi đơn kháng cáo viết tay dài 9 trang giấy | Thời sự\n",
    "\n",
    "Trong đơn kháng cáo, Hà Văn Thắm xin chấp hành bản án tòa cấp sơ thẩm tuyên ngày 29.9 về 2 tội danh \"Vi phạm quy định về cho vay trong hoạt động của các tổ chức tín dụng\" và \"Cố ý làm trái các quy định của Nhà nước về quản lý kinh tế gây hậu quả nghiêm trọng\".\n",
    "\n",
    "Nội dung đơn kháng cáo của nguyên Chủ tịch HĐQT OceanBank\n",
    "\n",
    " cũng bày tỏ nguyện vọng tòa cấp cao xem xét lại phần tuyên phạt mình 20 năm tù về tội \"Lạm dụng chức vụ chiếm đoạt tài sản\" và mức án tù chung thân về tội \"Tham ô tài sản\".\n",
    "\n",
    "Ngoài ra, Hà Văn Thắm trình bày nếu tòa cấp cao thấy đủ căn cứ kết tội về 2 tội danh trên, thì Hà Văn Thắm xin được tòa cấp cao xem xét 5 tình tiết giảm nhẹ, như: Không được hưởng lợi; hành vi chi tiền vượt trần lãi suất được thực hiện trong hoàn cảnh bắt buộc, hơn nữa bản thân luôn thành khẩn khai báo...\n",
    "\n",
    "Với phán quyết của tòa sơ thẩm về trách nhiệm dân sự, Hà Văn Thắm cho rằng việc bản thân phải bồi thường hơn 800 tỉ đồng cho OceanBank (mới) là chưa đúng, và khẳng định không có khả năng bồi thường thiệt hại như án sơ thẩm đã tuyên.\n",
    "\n",
    "Liên quan đến số tiền 197 tỉ đồng mà bị cáo Nguyễn Xuân Sơn đã chiếm đoạt của OceanBank, Hà Văn Thắm cho rằng tòa sơ thẩm tuyên bị cáo Sơn phải bồi thường thiệt hại cho PVN 49 tỉ đồng (tương đương 20% cổ phần của PVN tại OceanBank), vậy với tư cách là cổ đông của OceanBank, Hà Văn Thắm cũng phải được bồi thường tương ứng với số cổ phần 62,9% mà bị cáo này nắm giữ.\n",
    "\n",
    "Cùng ngày, Tòa án nhân dân TP.Hà Nội cũng cho biết, tới thời điểm hiện tại, nếu tính cả trường hợp của Hà Văn Thắm, cơ quan này đã nhận được tổng cộng 21 đơn kháng cáo\n",
    "\n",
    ", trong tổng số 51 bị cáo bị đưa ra xét xử sơ thẩm trong đại án OceanBank mới đây.\n",
    "\n",
    "\n",
    "\"\"\"\n",
    "\n",
    "news_recommend(news_text)"
   ]
  },
  {
   "cell_type": "code",
   "execution_count": 537,
   "metadata": {},
   "outputs": [
    {
     "name": "stdout",
     "output_type": "stream",
     "text": [
      "Các tin liên quan: \n",
      "\n",
      "http://vietnamnet.vn/vn/thoi-su/thoi-tiet-18-10-mien-bac-hanh-kho-mien-trung-mua-to-405332.html\n",
      "Miền Bắc hanh khô, miền Trung mưa to - Từ hôm nay miền Bắc tăng nhiệt dần nhưng trời nắng hanh, tron \n",
      "\n",
      "https://vnexpress.net/tin-tuc/thoi-su/bien-dong-xuat-hien-vung-ap-thap-nam-bo-mua-lon-3657630.html\n",
      "Biển Đông xuất hiện vùng áp thấp, Nam Bộ mưa lớn 13h ngày 18/10, trung tâm vùng áp thấp cách đảo  \n",
      "\n",
      "http://tuoitre.vn/bien-dong-xuat-hiep-ap-thap-mua-dong-tren-bien-lan-dat-lien-20171018151942411.htm\n",
      "Biển Đông xuất hiệp áp thấp, mưa dông trên biển lẫn đất liền Sơ đồ dự báo hướng đi vùng áp thấp - Ả \n",
      "\n",
      "http://dantri.com.vn/xa-hoi/xuat-hien-vung-ap-thap-tren-bien-dong-20171018162224746.htm\n",
      "Xuất hiện vùng áp thấp trên Biển Đông Vị trí và hướng di chuyển của vùng áp thấp nhiệt đới. (Ảnh \n",
      "\n",
      "https://laodong.vn/xa-hoi/giat-minh-voi-thong-tin-ap-thap-moi-tren-bien-dong-570799.ldo\n",
      "“Giật mình” với thông tin áp thấp mới trên Biển Đông Chiều nay (18.10), trên khu vực phía Đông Bắc  \n",
      "\n"
     ]
    }
   ],
   "source": [
    "news_text = \"\"\"\n",
    "Thời tiết 18/10: Miền Bắc hanh khô, miền Trung mưa to\n",
    "\n",
    "- Từ hôm nay miền Bắc tăng nhiệt dần nhưng trời nắng hanh, trong khi nửa miền Trung kéo vào đến Nam Bộ có mưa vừa, mưa to đến rất to.\n",
    "\n",
    "2 ngày qua, người dân miền Bắc đã hưởng trọn vẹn đợt se lạnh đầu mùa, vùng núi chuyển rét. Đến đêm qua, nhiệt độ bắt đầu nhích nhẹ, thủ đô Hà Nội thấp nhất 20 độ, TP Lạng Sơn lạnh 17 độ, TP Hải Phòng, Sơn La 18 độ, TP Hà Giang 19 độ, riêng Sa Pa (Lào Cai) lạnh 12 độ.\n",
    "\n",
    "Sang đến hôm nay, mưa nhỏ chỉ còn diễn ra một số nơi tại miền Bắc, trưa chiều trời tạnh ráo, có lúc hửng nắng, nhiệt độ tăng khoảng 3 độ.\n",
    "Dự báo thời tiết, bản tin thời tiết, tin thời tiết, thời tiết Hà Nội\n",
    "Miền Bắc tạnh ráo nhưng sẽ nắng hanh trong nhiều ngày tới\n",
    "\n",
    "Nhiệt độ cao nhất tại TP Lạng Sơn lên 22 độ, Hải Phòng, Sơn La, Hà Giang 24 độ, thủ đô Hà Nội tăng lên 26 độ, Sa Pa tăng lên 16-17 độ C, TP Điện Biên Phủ 28 độ...\n",
    "\n",
    "Đà tăng nhiệt sẽ tiếp tục, ngày mai cao nhất tại Hà Nội sẽ lên mức 28-29 độ C, trời nắng ráo nhưng hanh khô, se lạnh về đêm và sáng sớm với nhiệt độ phổ biến 22-23 độ C.\n",
    "\n",
    "Trong khi đó dọc khắp từ Quảng Bình vào đến Nam Bộ từ hôm nay đến hết ngày 19/10 sẽ có mưa diện rộng, do dải hội tụ nhiệt đới vắt ngang qua Nam Trung Bộ.\n",
    "\n",
    "Cụ thể, các tỉnh từ Quảng Bình đến Quảng Ngãi mưa phổ biến từ 70-100mm/đợt, riêng Quảng Trị, Đà Nẵng, Quảng Nam 100-150mm/đợt, có nơi trên 200mm.\n",
    "\n",
    "Các tỉnh từ Bình Định đến Bình Thuận có mưa phổ biến từ 50-100mm/đợt; Các tỉnh phía Nam Tây Nguyên (các tỉnh Đắk Lắk, Đắk Nông, Lâm Đồng) và khu vực Nam Bộ có mưa từ 70-150mm/đợt.\n",
    " \n",
    "\n",
    "Do mưa lớn, trên các sông từ Quảng Bình đến Bình Thuận và khu vực nam Tây Nguyên sẽ xuất hiện 1 đợt lũ. Trong đợt lũ này, mực nước trên các sông phổ biến còn dưới mức BĐ1, riêng các sông ở Ninh Thuận, Bình Thuận có khả năng lên mức BĐ2-BĐ3.\n",
    "\n",
    "Ngoài ra các tỉnh Bình Thuận, Ninh Thuận, Lâm Đồng cần lưu ý nguy cơ cao xảy ra lũ quét, sạt lở đất ở vùng núi, ngập úng cục bộ ở vùng trũng thấp.\n",
    "\n",
    "Riêng Nam Bộ, do mưa lớn kết hợp với triều cường, nguy cơ cao xảy ra ngập lụt ở các vùng trũng thấp thuộc khu vực Nam Bộ, đặc biệt tại TP.HCM, Vĩnh Long, Cần Thơ.\n",
    "\n",
    "\n",
    "\"\"\"\n",
    "\n",
    "news_recommend(news_text)"
   ]
  }
 ],
 "metadata": {
  "kernelspec": {
   "display_name": "Python 3",
   "language": "python",
   "name": "python3"
  },
  "language_info": {
   "codemirror_mode": {
    "name": "ipython",
    "version": 3
   },
   "file_extension": ".py",
   "mimetype": "text/x-python",
   "name": "python",
   "nbconvert_exporter": "python",
   "pygments_lexer": "ipython3",
   "version": "3.5.2"
  }
 },
 "nbformat": 4,
 "nbformat_minor": 2
}
